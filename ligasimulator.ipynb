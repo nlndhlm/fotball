{
 "cells": [
  {
   "cell_type": "markdown",
   "id": "a0fa19e2",
   "metadata": {},
   "source": [
    "# Ligasimulator\n",
    "\n",
    "Spiller hjemme- og bortekamp mellom alle lagene i ligaen.\n",
    "Bruker Poisson til å avgjøre resultatet."
   ]
  },
  {
   "cell_type": "code",
   "execution_count": 1,
   "id": "48fd8826",
   "metadata": {},
   "outputs": [],
   "source": [
    "import random\n",
    "from itertools import permutations\n",
    "import numpy as np"
   ]
  },
  {
   "cell_type": "code",
   "execution_count": 2,
   "id": "a58f0dec",
   "metadata": {},
   "outputs": [],
   "source": [
    "# [LAGNAVN, xG for hjemme, xG mot hjemme, xG for borte, xG imot borte]\n",
    "lag_liste = [\n",
    "    [\"Arsenal\", 1.4, 0.9, 1, 0.9],\n",
    "    [\"Brentford\", 1.2, 1, 1, 1],\n",
    "    [\"Chelsea\", 2, 0.5, 1.3, 0.7],\n",
    "    [\"Liverpool\", 2.2, 0.6, 1.6, 0.7]\n",
    "    ]"
   ]
  },
  {
   "cell_type": "markdown",
   "id": "7bf50b67",
   "metadata": {},
   "source": [
    "Funksjonen under tar en liste med lag som argument:"
   ]
  },
  {
   "cell_type": "code",
   "execution_count": 3,
   "id": "8f3a26a1",
   "metadata": {},
   "outputs": [],
   "source": [
    "def spill_sesong(lag):\n",
    "\n",
    "    def spill_kamp(h, b):\n",
    "\n",
    "        hjemmemaal = (h[1] + b[4]) / 2              # forventet antall hjemmemål FOR + bortemål IMOT dividert på 2\n",
    "        bortemaal = (b[3] + h[2]) / 2               # forventet antall bortemål FOR + hjemmemål IMOT dividert på 2\n",
    "\n",
    "        #hjemmemaal = ((h[1] + b[2]) / 2)           # slik vil det se ut dersom det spilles på nøytral bane (EM/VM etc)\n",
    "        #hjemmemaal = ((b[1] + h[2]) / 2)\n",
    "\n",
    "        hm = np.random.poisson(hjemmemaal)\n",
    "        bm = np.random.poisson(bortemaal)\n",
    "\n",
    "        return (h[0], b[0], hm, bm)\n",
    "\n",
    "\n",
    "    perm = permutations(lag, 2)                     # fikser permutasjoner for oss\n",
    "                                                    # PS: dersom det kun skal spilles én kamp bruker vi combinations(lag, 2) i steden\n",
    "\n",
    "    resultater = []\n",
    "\n",
    "    for i in list(perm):\n",
    "        resultater.append(list(spill_kamp(list(i)[0], list(i)[1])))\n",
    "\n",
    "\n",
    "    return resultater\n",
    "\n"
   ]
  },
  {
   "cell_type": "markdown",
   "id": "7f5857f1",
   "metadata": {},
   "source": [
    "Vi printer funksjonen:"
   ]
  },
  {
   "cell_type": "code",
   "execution_count": 4,
   "id": "9db52d26",
   "metadata": {},
   "outputs": [
    {
     "name": "stdout",
     "output_type": "stream",
     "text": [
      "[['Arsenal', 'Brentford', 0, 1], ['Arsenal', 'Chelsea', 2, 0], ['Arsenal', 'Liverpool', 3, 1], ['Brentford', 'Arsenal', 3, 1], ['Brentford', 'Chelsea', 1, 1], ['Brentford', 'Liverpool', 2, 1], ['Chelsea', 'Arsenal', 2, 0], ['Chelsea', 'Brentford', 0, 1], ['Chelsea', 'Liverpool', 1, 0], ['Liverpool', 'Arsenal', 0, 0], ['Liverpool', 'Brentford', 2, 1], ['Liverpool', 'Chelsea', 1, 3]]\n"
     ]
    }
   ],
   "source": [
    "print(spill_sesong(lag_liste))"
   ]
  }
 ],
 "metadata": {
  "kernelspec": {
   "display_name": "Python 3",
   "language": "python",
   "name": "python3"
  },
  "language_info": {
   "codemirror_mode": {
    "name": "ipython",
    "version": 3
   },
   "file_extension": ".py",
   "mimetype": "text/x-python",
   "name": "python",
   "nbconvert_exporter": "python",
   "pygments_lexer": "ipython3",
   "version": "3.8.10"
  }
 },
 "nbformat": 4,
 "nbformat_minor": 5
}
